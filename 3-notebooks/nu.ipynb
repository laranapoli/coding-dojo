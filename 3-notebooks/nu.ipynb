{
 "cells": [
  {
   "cell_type": "code",
   "execution_count": 9,
   "metadata": {},
   "outputs": [],
   "source": [
    "qtd_movimentos = 0"
   ]
  },
  {
   "cell_type": "code",
   "execution_count": 10,
   "metadata": {},
   "outputs": [],
   "source": [
    "loggedMoves = ['x/', 'y/', '../', 'z/', './']"
   ]
  },
  {
   "cell_type": "code",
   "execution_count": 11,
   "metadata": {},
   "outputs": [],
   "source": [
    "for move in loggedMoves:\n",
    "    if move == './':\n",
    "        pass\n",
    "    elif move == '../':\n",
    "        qtd_movimentos -= 1\n",
    "    else:\n",
    "        qtd_movimentos += 1\n"
   ]
  },
  {
   "cell_type": "code",
   "execution_count": 12,
   "metadata": {},
   "outputs": [
    {
     "data": {
      "text/plain": [
       "2"
      ]
     },
     "execution_count": 12,
     "metadata": {},
     "output_type": "execute_result"
    }
   ],
   "source": [
    "qtd_movimentos"
   ]
  },
  {
   "cell_type": "markdown",
   "metadata": {},
   "source": [
    "# 2"
   ]
  },
  {
   "cell_type": "code",
   "execution_count": 32,
   "metadata": {},
   "outputs": [],
   "source": [
    "nums1 = [1, 2, 2]\n",
    "nums2 = [4, 3, 3]\n",
    "nums3 = [5]"
   ]
  },
  {
   "cell_type": "code",
   "execution_count": 33,
   "metadata": {},
   "outputs": [],
   "source": [
    "set_nums1 = set(nums1)\n",
    "set_nums2 = set(nums2)\n",
    "set_nums3 = set(nums3)"
   ]
  },
  {
   "cell_type": "code",
   "execution_count": 34,
   "metadata": {},
   "outputs": [
    {
     "data": {
      "text/plain": [
       "0"
      ]
     },
     "execution_count": 34,
     "metadata": {},
     "output_type": "execute_result"
    }
   ],
   "source": [
    "len(set(list(set_nums1.intersection(set_nums2)) + list(set_nums1.intersection(set_nums3)) + list(set_nums2.intersection(set_nums3))))"
   ]
  },
  {
   "cell_type": "markdown",
   "metadata": {},
   "source": [
    "# 3"
   ]
  },
  {
   "cell_type": "code",
   "execution_count": 71,
   "metadata": {},
   "outputs": [],
   "source": [
    "samDaily = 3\n",
    "kellyDaily = 5\n",
    "difference = 1"
   ]
  },
  {
   "cell_type": "code",
   "execution_count": 72,
   "metadata": {},
   "outputs": [],
   "source": [
    "result = 0"
   ]
  },
  {
   "cell_type": "code",
   "execution_count": 73,
   "metadata": {},
   "outputs": [],
   "source": [
    "samSolved = difference\n",
    "kellySolved = 0"
   ]
  },
  {
   "cell_type": "code",
   "execution_count": 74,
   "metadata": {},
   "outputs": [],
   "source": [
    "while kellySolved <= samSolved:\n",
    "    if kellyDaily <= samDaily:\n",
    "        result = -1\n",
    "        break\n",
    "    samSolved += samDaily\n",
    "    kellySolved += kellyDaily\n",
    "    result += 1"
   ]
  },
  {
   "cell_type": "code",
   "execution_count": 75,
   "metadata": {},
   "outputs": [
    {
     "data": {
      "text/plain": [
       "1"
      ]
     },
     "execution_count": 75,
     "metadata": {},
     "output_type": "execute_result"
    }
   ],
   "source": [
    "result"
   ]
  },
  {
   "cell_type": "markdown",
   "metadata": {},
   "source": [
    "# 4"
   ]
  },
  {
   "cell_type": "code",
   "execution_count": 101,
   "metadata": {},
   "outputs": [],
   "source": [
    "jumps = [-5, 4, -2, 3, 1, -1, -6, -1, 0, 5]"
   ]
  },
  {
   "cell_type": "code",
   "execution_count": 106,
   "metadata": {},
   "outputs": [
    {
     "name": "stdout",
     "output_type": "stream",
     "text": [
      "1 -5\n",
      "-5 -4 Não atendeu condição\n",
      "-4 4\n",
      "4 0 Não atendeu condição\n",
      "0 -2\n",
      "-2 -2 Não atendeu condição\n",
      "-2 3\n",
      "1 1\n",
      "2 -1\n",
      "1 -6\n",
      "-6 -5 Não atendeu condição\n",
      "-5 -1\n",
      "-1 -6 Não atendeu condição\n",
      "-6 0\n",
      "0 -6 Não atendeu condição\n",
      "-6 5\n",
      "5 -1 Não atendeu condição\n"
     ]
    }
   ],
   "source": [
    "degrau = 1\n",
    "diff_max = 0\n",
    "\n",
    "for jump in jumps:\n",
    "    print(degrau, jump)\n",
    "    degrau += jump\n",
    "    if degrau < 1:\n",
    "        print(jump, degrau, 'Não atendeu condição')\n",
    "        diff = abs(degrau)\n",
    "        if diff > diff_max:\n",
    "            diff_max = diff"
   ]
  },
  {
   "cell_type": "code",
   "execution_count": 105,
   "metadata": {},
   "outputs": [
    {
     "data": {
      "text/plain": [
       "6"
      ]
     },
     "execution_count": 105,
     "metadata": {},
     "output_type": "execute_result"
    }
   ],
   "source": [
    "diff_max"
   ]
  },
  {
   "cell_type": "code",
   "execution_count": null,
   "metadata": {},
   "outputs": [],
   "source": []
  }
 ],
 "metadata": {
  "kernelspec": {
   "display_name": ".venv",
   "language": "python",
   "name": "python3"
  },
  "language_info": {
   "codemirror_mode": {
    "name": "ipython",
    "version": 3
   },
   "file_extension": ".py",
   "mimetype": "text/x-python",
   "name": "python",
   "nbconvert_exporter": "python",
   "pygments_lexer": "ipython3",
   "version": "3.10.13"
  }
 },
 "nbformat": 4,
 "nbformat_minor": 2
}
